{
 "cells": [
  {
   "cell_type": "code",
   "execution_count": null,
   "id": "eea4f9a0",
   "metadata": {},
   "outputs": [],
   "source": [
    "import pandas as pd\n",
    "import numpy as np\n",
    "import os\n",
    "os.getcwd() "
   ]
  },
  {
   "cell_type": "code",
   "execution_count": null,
   "id": "66e3e5e2",
   "metadata": {},
   "outputs": [],
   "source": [
    "christmas = pd.read_csv(\"netvor++_0.3_2023-03-21.csv\")\n",
    "christmas.head()"
   ]
  },
  {
   "cell_type": "code",
   "execution_count": null,
   "id": "a8e7edce",
   "metadata": {},
   "outputs": [],
   "source": [
    "# numeric symbols encoding structure of the staff should be removed from the volpiano string before translation \n",
    "# and alignment\n",
    "# some g-clefs are encoded 1-- rather than 1---\n",
    "christmas.volpiano = christmas.volpiano.str.replace('1---', '')\n",
    "christmas.volpiano = christmas.volpiano.str.replace('1--', '')\n",
    "christmas.volpiano = christmas.volpiano.str.replace('---3', '')\n",
    "christmas.volpiano = christmas.volpiano.str.replace('---4', '')\n",
    "christmas.volpiano = christmas.volpiano.str.replace('4', '') # this appears as an erroneous instance of the previous code\n",
    "christmas.volpiano = christmas.volpiano.str.replace('---5', '') # this one is not documented but appears in some chants at the end\n",
    "christmas.volpiano = christmas.volpiano.str.replace('777', '')\n",
    "christmas.volpiano = christmas.volpiano.str.replace('77', '')\n",
    "christmas.volpiano = christmas.volpiano.str.replace('7', '')\n",
    "christmas.volpiano = christmas.volpiano.str.replace('6------6', '')\n",
    "christmas.volpiano = christmas.volpiano.str.replace('---6', '')\n",
    "christmas.volpiano = christmas.volpiano.str.replace('-----6', '')\n",
    "christmas.volpiano = christmas.volpiano.str.replace('------6', '')\n",
    "christmas.volpiano = christmas.volpiano.str.replace('-------6', '')\n",
    "christmas.volpiano = christmas.volpiano.str.replace('--------6', '')\n",
    "christmas.volpiano = christmas.volpiano.str.replace('---------6', '')\n"
   ]
  },
  {
   "cell_type": "code",
   "execution_count": null,
   "id": "5fea37e9",
   "metadata": {},
   "outputs": [],
   "source": [
    "# deep copy to preserve the original information\n",
    "christmas_translated = christmas.copy(deep=True)\n",
    "# translate the --- to ~ and -- to |\n",
    "christmas_translated.volpiano = christmas_translated.volpiano.str.replace('---', '~')\n",
    "christmas_translated.volpiano = christmas_translated.volpiano.str.replace('--', '|')\n",
    "# check that translation is not affecting the original object\n",
    "christmas.volpiano.head()"
   ]
  },
  {
   "cell_type": "code",
   "execution_count": null,
   "id": "6f9b88e6",
   "metadata": {},
   "outputs": [],
   "source": [
    "christmas_translated.volpiano.head()"
   ]
  },
  {
   "cell_type": "code",
   "execution_count": null,
   "id": "0b8faba7",
   "metadata": {},
   "outputs": [],
   "source": [
    "# create a new column with the combination of cantus id and the incipit\n",
    "\n",
    "# first check that either cantus_id or corpus_id has only uniques\n",
    "christmas.cantus_id.value_counts()"
   ]
  },
  {
   "cell_type": "code",
   "execution_count": null,
   "id": "3c432145",
   "metadata": {},
   "outputs": [],
   "source": [
    "# use the cantus id to pick comparable melodies. Remove the :cz particle as this is just text in \n",
    "# czech of essentially the same melody\n",
    "christmas.loc[:,'cantus_id_clean'] = christmas.loc[:,'cantus_id'].apply(lambda row: row.replace(\":cs\", \"\"))\n",
    "christmas.cantus_id_clean.value_counts()"
   ]
  },
  {
   "cell_type": "code",
   "execution_count": null,
   "id": "e9c73880",
   "metadata": {},
   "outputs": [],
   "source": [
    "# repeat it for the translated version\n",
    "christmas_translated.loc[:,'cantus_id_clean'] = christmas_translated.loc[:,'cantus_id'].apply(lambda row: row.replace(\":cs\", \"\"))\n",
    "christmas_translated.cantus_id_clean.value_counts()"
   ]
  },
  {
   "cell_type": "code",
   "execution_count": null,
   "id": "7d2ece1e",
   "metadata": {},
   "outputs": [],
   "source": [
    "# make just another column using the unique_id, then newline, and then the volpiano string\n",
    "christmas.loc[:, 'idx'] = list(christmas.index)\n",
    "christmas.loc[:,'cantusidclean_idx'] = christmas[['cantus_id_clean','idx']].apply(lambda row: ' '.join(row.values.astype(str)), axis=1)\n",
    "christmas.loc[:,'fasta'] = christmas[['cantusidclean_idx','volpiano']].apply(lambda row: '\\n'.join(row.values.astype(str)), axis=1)\n",
    "christmas.head()"
   ]
  },
  {
   "cell_type": "code",
   "execution_count": null,
   "id": "cf9e3471",
   "metadata": {},
   "outputs": [],
   "source": [
    "# make just another column using the unique_id, then newline, and then the volpiano string\n",
    "christmas_translated.loc[:, 'idx'] = list(christmas_translated.index)\n",
    "christmas_translated.loc[:,'cantusidclean_idx'] = christmas_translated[['cantus_id_clean','idx']].apply(lambda row: ' '.join(row.values.astype(str)), axis=1)\n",
    "christmas_translated.loc[:,'fasta'] = christmas_translated[['cantusidclean_idx','volpiano']].apply(lambda row: '\\n'.join(row.values.astype(str)), axis=1)\n",
    "christmas_translated.head()"
   ]
  },
  {
   "cell_type": "code",
   "execution_count": null,
   "id": "d469802c",
   "metadata": {},
   "outputs": [],
   "source": [
    "# subsect each dataset per cantus_id_clean\n",
    "# 003511 (judaea et jerusalem), \n",
    "# 004195 (orietur sicut sol salvator), \n",
    "# 007040a (constantes estote videbitis), \n",
    "# 605019 (judaea et jerusalem II), \n",
    "# 001737 (bethelem non est minima), \n",
    "# 002000 (cum esset desponsata)\n",
    "judjer1 = christmas[christmas['cantus_id_clean'] == '003511']\n",
    "orisic = christmas[christmas['cantus_id_clean'] == '004195']\n",
    "consest = christmas[christmas['cantus_id_clean'] == '007040a']\n",
    "judjer2 = christmas[christmas['cantus_id_clean'] == '605019']\n",
    "bethnon = christmas[christmas['cantus_id_clean'] == '001737']\n",
    "cumesset = christmas[christmas['cantus_id_clean'] == '002000']\n",
    "# and their translated forms\n",
    "judjer1_tr = christmas_translated[christmas_translated['cantus_id_clean'] == '003511']\n",
    "orisic_tr = christmas_translated[christmas_translated['cantus_id_clean'] == '004195']\n",
    "consest_tr = christmas_translated[christmas_translated['cantus_id_clean'] == '007040a']\n",
    "judjer2_tr = christmas_translated[christmas_translated['cantus_id_clean'] == '605019']\n",
    "bethnon_tr = christmas_translated[christmas_translated['cantus_id_clean'] == '001737']\n",
    "cumesset_tr = christmas_translated[christmas_translated['cantus_id_clean'] == '002000']\n",
    "cumesset_tr.head()"
   ]
  },
  {
   "cell_type": "code",
   "execution_count": null,
   "id": "95edf6e5",
   "metadata": {},
   "outputs": [],
   "source": [
    "# write just the fasta column of interest to a fasta file\n",
    "\n",
    "with open('judjer1.fasta', 'w') as f:\n",
    "    for i in judjer1.index:\n",
    "        f.write('> ' + judjer1.loc[i,'cantusidclean_idx'] + '\\n')\n",
    "        f.write(judjer1.loc[i,'volpiano'] + '\\n')\n",
    "\n",
    "with open('orisic.fasta', 'w') as f:\n",
    "    for i in orisic.index:\n",
    "        f.write('> ' + orisic.loc[i,'cantusidclean_idx'] + '\\n')\n",
    "        f.write(orisic.loc[i,'volpiano'] + '\\n')\n",
    "\n",
    "with open('consest.fasta', 'w') as f:\n",
    "    for i in consest.index:\n",
    "        f.write('> ' + consest.loc[i,'cantusidclean_idx'] + '\\n')\n",
    "        f.write(consest.loc[i,'volpiano'] + '\\n')\n",
    "\n",
    "with open('judjer2.fasta', 'w') as f:\n",
    "    for i in judjer2.index:\n",
    "        f.write('> ' + judjer2.loc[i,'cantusidclean_idx'] + '\\n')\n",
    "        f.write(judjer2.loc[i,'volpiano'] + '\\n')\n",
    "\n",
    "with open('bethnon.fasta', 'w') as f:\n",
    "    for i in bethnon.index:\n",
    "        f.write('> ' + bethnon.loc[i,'cantusidclean_idx'] + '\\n')\n",
    "        f.write(bethnon.loc[i,'volpiano'] + '\\n')\n",
    "\n",
    "with open('cumesset.fasta', 'w') as f:\n",
    "    for i in cumesset.index:\n",
    "        f.write('> ' + cumesset.loc[i,'cantusidclean_idx'] + '\\n')\n",
    "        f.write(cumesset.loc[i,'volpiano'] + '\\n')"
   ]
  },
  {
   "cell_type": "code",
   "execution_count": null,
   "id": "eebd5d4c",
   "metadata": {},
   "outputs": [],
   "source": [
    "# write just the fasta column of interest to a fasta file\n",
    "# and their translated forms\n",
    "\n",
    "with open('judjer1_tr.fasta', 'w') as f:\n",
    "    for i in judjer1_tr.index:\n",
    "        f.write('> ' + judjer1_tr.loc[i,'cantusidclean_idx'] + '\\n')\n",
    "        f.write(judjer1_tr.loc[i,'volpiano'] + '\\n')\n",
    "\n",
    "with open('orisic_tr.fasta', 'w') as f:\n",
    "    for i in orisic_tr.index:\n",
    "        f.write('> ' + orisic_tr.loc[i,'cantusidclean_idx'] + '\\n')\n",
    "        f.write(orisic_tr.loc[i,'volpiano'] + '\\n')\n",
    "\n",
    "with open('consest_tr.fasta', 'w') as f:\n",
    "    for i in consest_tr.index:\n",
    "        f.write('> ' + consest_tr.loc[i,'cantusidclean_idx'] + '\\n')\n",
    "        f.write(consest_tr.loc[i,'volpiano'] + '\\n')\n",
    "\n",
    "with open('judjer2_tr.fasta', 'w') as f:\n",
    "    for i in judjer2_tr.index:\n",
    "        f.write('> ' + judjer2_tr.loc[i,'cantusidclean_idx'] + '\\n')\n",
    "        f.write(judjer2_tr.loc[i,'volpiano'] + '\\n')\n",
    "\n",
    "with open('bethnon_tr.fasta', 'w') as f:\n",
    "    for i in bethnon_tr.index:\n",
    "        f.write('> ' + bethnon_tr.loc[i,'cantusidclean_idx'] + '\\n')\n",
    "        f.write(bethnon_tr.loc[i,'volpiano'] + '\\n')\n",
    "\n",
    "with open('cumesset_tr.fasta', 'w') as f:\n",
    "    for i in cumesset_tr.index:\n",
    "        f.write('> ' + cumesset_tr.loc[i,'cantusidclean_idx'] + '\\n')\n",
    "        f.write(cumesset_tr.loc[i,'volpiano'] + '\\n')"
   ]
  },
  {
   "cell_type": "code",
   "execution_count": null,
   "id": "cfb826b3",
   "metadata": {},
   "outputs": [],
   "source": [
    "# run mafft on the fasta just generated for the gapped sequences\n",
    "# only uncomment if realignment is necessary to be written to the output file\n",
    "#judjer1 = christmas[christmas['cantus_id_clean'] == '003511']\n",
    "#orisic = christmas[christmas['cantus_id_clean'] == '004195']\n",
    "#consest = christmas[christmas['cantus_id_clean'] == '007040a']\n",
    "#judjer2 = christmas[christmas['cantus_id_clean'] == '605019']\n",
    "#bethnon = christmas[christmas['cantus_id_clean'] == '001737']\n",
    "#cumesset = christmas[christmas['cantus_id_clean'] == '002000']\n",
    "\n",
    "os.system('mafft --text --textmatrix textmatrix_complete --globalpair --maxiterate 1000 judjer1.fasta > judjer1.aligned.fasta')\n",
    "os.system('mafft --text --textmatrix textmatrix_complete --globalpair --maxiterate 1000 orisic.fasta > orisic.aligned.fasta')\n",
    "os.system('mafft --text --textmatrix textmatrix_complete --globalpair --maxiterate 1000 consest.fasta > consest.aligned.fasta')\n",
    "os.system('mafft --text --textmatrix textmatrix_complete --globalpair --maxiterate 1000 judjer2.fasta > judjer2.aligned.fasta')\n",
    "os.system('mafft --text --textmatrix textmatrix_complete --globalpair --maxiterate 1000 bethnon.fasta > bethnon.aligned.fasta')\n",
    "os.system('mafft --text --textmatrix textmatrix_complete --globalpair --maxiterate 1000 cumesset.fasta > cumesset.aligned.fasta')"
   ]
  },
  {
   "cell_type": "code",
   "execution_count": null,
   "id": "7e63e53d",
   "metadata": {},
   "outputs": [],
   "source": [
    "# run mafft on the fasta just generated for the translated sequences\n",
    "# only uncomment if realignment is necessary to be written to the output file\n",
    "#judjer1_tr = christmas_translated[christmas_translated['cantus_id_clean'] == '003511']\n",
    "#orisic_tr = christmas_translated[christmas_translated['cantus_id_clean'] == '004195']\n",
    "#consest_tr = christmas_translated[christmas_translated['cantus_id_clean'] == '007040a']\n",
    "#judjer2_tr = christmas_translated[christmas_translated['cantus_id_clean'] == '605019']\n",
    "#bethnon_tr = christmas_translated[christmas_translated['cantus_id_clean'] == '001737']\n",
    "#cumesset_tr = christmas_translated[christmas_translated['cantus_id_clean'] == '002000']\n",
    "\n",
    "os.system('mafft --text --textmatrix textmatrix_complete --globalpair --maxiterate 1000 judjer1_tr.fasta > judjer1_tr.aligned.fasta')\n",
    "os.system('mafft --text --textmatrix textmatrix_complete --globalpair --maxiterate 1000 orisic_tr.fasta > orisic_tr.aligned.fasta')\n",
    "os.system('mafft --text --textmatrix textmatrix_complete --globalpair --maxiterate 1000 consest_tr.fasta > consest_tr.aligned.fasta')\n",
    "os.system('mafft --text --textmatrix textmatrix_complete --globalpair --maxiterate 1000 judjer2_tr.fasta > judjer2_tr.aligned.fasta')\n",
    "os.system('mafft --text --textmatrix textmatrix_complete --globalpair --maxiterate 1000 bethnon_tr.fasta > bethnon_tr.aligned.fasta')\n",
    "os.system('mafft --text --textmatrix textmatrix_complete --globalpair --maxiterate 1000 cumesset_tr.fasta > cumesset_tr.aligned.fasta')"
   ]
  },
  {
   "cell_type": "code",
   "execution_count": null,
   "id": "ae78f33a",
   "metadata": {},
   "outputs": [],
   "source": [
    "# convert from fasta to nexus using phyx, replace protein by standard and remove the intermediate nexus\n",
    "os.system('for i in `ls *.aligned.fasta`; do pxs2nex -s $i -o $i.nexus; done; rm phyx.logfile')\n",
    "os.system('for i in `ls *nexus`; do sed \\'s/PROTEIN/STANDARD/g\\' $i > $i.std; rm $i; done')"
   ]
  },
  {
   "cell_type": "code",
   "execution_count": null,
   "id": "44607f82",
   "metadata": {},
   "outputs": [],
   "source": [
    "christmas.volpiano.iloc[91]"
   ]
  },
  {
   "cell_type": "code",
   "execution_count": null,
   "id": "2275f145",
   "metadata": {},
   "outputs": [],
   "source": []
  },
  {
   "cell_type": "code",
   "execution_count": null,
   "id": "20ffe231",
   "metadata": {},
   "outputs": [],
   "source": []
  },
  {
   "cell_type": "code",
   "execution_count": null,
   "id": "506e8c54",
   "metadata": {
    "scrolled": true
   },
   "outputs": [],
   "source": []
  },
  {
   "cell_type": "code",
   "execution_count": null,
   "id": "8c33510e",
   "metadata": {},
   "outputs": [],
   "source": [
    "# the alignment above looks better, but numeric characters seem to be useless in this context \n",
    "# as they encode bars and these even seem to be interfering with the alignment\n",
    "# a resume of numeric codes in volpiano: https://cantus.uwaterloo.ca/sites/default/files/documents/2.%20Volpiano%20Protocols.pdf\n",
    "# 1--- : g-clef\n",
    "# ---3 : single bar\n",
    "# ---4 : double bar\n",
    "# possible erroneous version of the above: 4\n",
    "# ---5 present in some chants but undocumented\n",
    "# 7 : line break\n",
    "# 77 : page break\n",
    "# 777 : column break\n",
    "# 9 : Gamma-ut\n",
    "# 6------6 : missing pitches"
   ]
  }
 ],
 "metadata": {
  "kernelspec": {
   "display_name": "Python 3 (ipykernel)",
   "language": "python",
   "name": "python3"
  },
  "language_info": {
   "codemirror_mode": {
    "name": "ipython",
    "version": 3
   },
   "file_extension": ".py",
   "mimetype": "text/x-python",
   "name": "python",
   "nbconvert_exporter": "python",
   "pygments_lexer": "ipython3",
   "version": "3.10.9"
  }
 },
 "nbformat": 4,
 "nbformat_minor": 5
}
